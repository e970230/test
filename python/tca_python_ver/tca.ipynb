{
 "cells": [
  {
   "cell_type": "markdown",
   "id": "515ccd6c",
   "metadata": {},
   "source": [
    "TCA python 實作題目如下:\n",
    "\n",
    "演化運算課程作業(TCA:Transfer ransfer ComponentAnalysis)\n",
    "\n",
    "給定一二維資料集，其中兩個群集：x1、x2為源域資料，而另外兩個群集：t1、t2為目標域資料\n",
    "\n",
    "使用TCA將源域資料與目標域資料轉換至三維\n",
    "\n",
    "目標以能使TCA轉換後的x1與t1能盡可能接近，而x2與t2彼此間也能盡可能接近；但{x1, t1}與{x2, t2}之間需盡可能遠離\n"
   ]
  },
  {
   "cell_type": "code",
   "execution_count": null,
   "id": "51c4511f",
   "metadata": {},
   "outputs": [],
   "source": [
    "# 讀取檔案\n",
    "\n",
    "import scipy.io\n",
    "\n",
    "origin_data = scipy.io.loadmat(\"TCA_exercise_dataset.mat\")"
   ]
  }
 ],
 "metadata": {
  "language_info": {
   "name": "python"
  }
 },
 "nbformat": 4,
 "nbformat_minor": 5
}
